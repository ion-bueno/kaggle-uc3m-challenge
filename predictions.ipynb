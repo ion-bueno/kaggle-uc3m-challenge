{
 "cells": [
  {
   "cell_type": "code",
   "execution_count": 1,
   "metadata": {},
   "outputs": [
    {
     "name": "stderr",
     "output_type": "stream",
     "text": [
      "2022-05-30 09:32:25.879312: W tensorflow/stream_executor/platform/default/dso_loader.cc:64] Could not load dynamic library 'libcudart.so.11.0'; dlerror: libcudart.so.11.0: cannot open shared object file: No such file or directory\n",
      "2022-05-30 09:32:25.879338: I tensorflow/stream_executor/cuda/cudart_stub.cc:29] Ignore above cudart dlerror if you do not have a GPU set up on your machine.\n"
     ]
    }
   ],
   "source": [
    "from src.utils import *\n",
    "from src.preprocessing import *\n",
    "import matplotlib.pyplot as plt\n",
    "import pickle as pkl\n",
    "from sklearn.metrics import f1_score"
   ]
  },
  {
   "cell_type": "code",
   "execution_count": 2,
   "metadata": {},
   "outputs": [],
   "source": [
    "X,y,X_comp = load_data()\n",
    "X_df,y_df,X_comp_df = load_data(df_format=True)\n",
    "X_miss = fill_na_pmm()\n",
    "y_enc = encoding_labels(y)"
   ]
  },
  {
   "cell_type": "code",
   "execution_count": 18,
   "metadata": {},
   "outputs": [],
   "source": [
    "model = pkl.load(open('models/model101.pkl', 'rb'))"
   ]
  },
  {
   "cell_type": "code",
   "execution_count": 32,
   "metadata": {},
   "outputs": [
    {
     "data": {
      "text/plain": [
       "array([0.01259712, 0.00862903, 0.02686622, 0.01130274, 0.0384416 ,\n",
       "       0.02283301, 0.01346464, 0.03122788, 0.01191741, 0.01241808,\n",
       "       0.06212226, 0.01303969, 0.07442389, 0.        , 0.00445893,\n",
       "       0.01588391, 0.04729409, 0.00901848, 0.00643055, 0.00264308,\n",
       "       0.0119015 , 0.01207206, 0.00994876, 0.00529413, 0.02571352,\n",
       "       0.03181101, 0.01048779, 0.01901516, 0.06013134, 0.00733342,\n",
       "       0.01991704, 0.02197519, 0.31289731, 0.00110752, 0.01109573,\n",
       "       0.01428592])"
      ]
     },
     "execution_count": 32,
     "metadata": {},
     "output_type": "execute_result"
    }
   ],
   "source": [
    "imp = model['dt'].feature_importances_\n",
    "imp"
   ]
  },
  {
   "cell_type": "code",
   "execution_count": 39,
   "metadata": {},
   "outputs": [
    {
     "data": {
      "text/plain": [
       "<BarContainer object of 36 artists>"
      ]
     },
     "execution_count": 39,
     "metadata": {},
     "output_type": "execute_result"
    },
    {
     "data": {
      "image/png": "[encoded data removed]",
      "text/plain": [
       "<Figure size 720x720 with 1 Axes>"
      ]
     },
     "metadata": {
      "needs_background": "light"
     },
     "output_type": "display_data"
    }
   ],
   "source": [
    "plt.figure(figsize=(10, 10))\n",
    "plt.bar(np.arange(0,36,1), imp)"
   ]
  },
  {
   "cell_type": "code",
   "execution_count": 48,
   "metadata": {},
   "outputs": [
    {
     "data": {
      "text/plain": [
       "['feat_2',\n",
       " 'feat_4',\n",
       " 'feat_5',\n",
       " 'feat_7',\n",
       " 'feat_10',\n",
       " 'feat_12',\n",
       " 'feat_15',\n",
       " 'feat_16',\n",
       " 'feat_24',\n",
       " 'feat_25',\n",
       " 'feat_27',\n",
       " 'feat_28',\n",
       " 'feat_30',\n",
       " 'feat_31',\n",
       " 'feat_32']"
      ]
     },
     "execution_count": 48,
     "metadata": {},
     "output_type": "execute_result"
    }
   ],
   "source": [
    "new_cols = [feat for i,feat in enumerate(X_df.columns) if imp[i]>imp[35]]\n",
    "new_cols"
   ]
  },
  {
   "cell_type": "code",
   "execution_count": 52,
   "metadata": {},
   "outputs": [
    {
     "data": {
      "text/plain": [
       "array([0.00955362, 0.00916324, 0.08001714, 0.00826932, 0.02220838,\n",
       "       0.05087575, 0.01592054, 0.0555377 , 0.01102172, 0.00971723,\n",
       "       0.05504953, 0.0155035 , 0.07572565, 0.00876967, 0.00984189,\n",
       "       0.00953249, 0.04321224, 0.02766047, 0.01237018, 0.00910738,\n",
       "       0.01770155, 0.00860123, 0.01742837, 0.01031235, 0.03193677,\n",
       "       0.02230533, 0.01008248, 0.04702282, 0.07037778, 0.0091983 ,\n",
       "       0.03100214, 0.07256876, 0.07892925, 0.00857624, 0.0163519 ,\n",
       "       0.00854709])"
      ]
     },
     "execution_count": 52,
     "metadata": {},
     "output_type": "execute_result"
    }
   ],
   "source": [
    "model_rf = pkl.load(open('models/model102.pkl', 'rb'))\n",
    "imp = model['rf'].feature_importances_\n",
    "imp"
   ]
  },
  {
   "cell_type": "code",
   "execution_count": 53,
   "metadata": {},
   "outputs": [
    {
     "data": {
      "text/plain": [
       "<BarContainer object of 36 artists>"
      ]
     },
     "execution_count": 53,
     "metadata": {},
     "output_type": "execute_result"
    },
    {
     "data": {
      "image/png": "[encoded data removed]",
      "text/plain": [
       "<Figure size 720x720 with 1 Axes>"
      ]
     },
     "metadata": {
      "needs_background": "light"
     },
     "output_type": "display_data"
    }
   ],
   "source": [
    "plt.figure(figsize=(10, 10))\n",
    "plt.bar(np.arange(0,36,1), imp)"
   ]
  },
  {
   "cell_type": "code",
   "execution_count": 57,
   "metadata": {},
   "outputs": [
    {
     "data": {
      "text/plain": [
       "['feat_2',\n",
       " 'feat_4',\n",
       " 'feat_5',\n",
       " 'feat_6',\n",
       " 'feat_7',\n",
       " 'feat_10',\n",
       " 'feat_11',\n",
       " 'feat_12',\n",
       " 'feat_16',\n",
       " 'feat_17',\n",
       " 'feat_20',\n",
       " 'feat_22',\n",
       " 'feat_24',\n",
       " 'feat_25',\n",
       " 'feat_27',\n",
       " 'feat_28',\n",
       " 'feat_30',\n",
       " 'feat_31',\n",
       " 'feat_32',\n",
       " 'feat_34']"
      ]
     },
     "execution_count": 57,
     "metadata": {},
     "output_type": "execute_result"
    }
   ],
   "source": [
    "new_cols_rf = [feat for i,feat in enumerate(X_df.columns) if imp[i]>imp[35] + 0.005]\n",
    "new_cols_rf"
   ]
  },
  {
   "cell_type": "code",
   "execution_count": 58,
   "metadata": {},
   "outputs": [
    {
     "data": {
      "text/plain": [
       "20"
      ]
     },
     "execution_count": 58,
     "metadata": {},
     "output_type": "execute_result"
    }
   ],
   "source": [
    "len(new_cols_rf)"
   ]
  },
  {
   "cell_type": "code",
   "execution_count": 5,
   "metadata": {},
   "outputs": [
    {
     "data": {
      "text/plain": [
       "array([0.011817  , 0.01135632, 0.05158384, 0.01018817, 0.02875911,\n",
       "       0.05003765, 0.02157826, 0.05363739, 0.01312202, 0.01148949,\n",
       "       0.05446715, 0.0171865 , 0.05996229, 0.010642  , 0.01157543,\n",
       "       0.01112695, 0.03849024, 0.0379083 , 0.01797098, 0.01169977,\n",
       "       0.0180189 , 0.01096008, 0.01889903, 0.01458051, 0.03220119,\n",
       "       0.0222505 , 0.01267454, 0.04305372, 0.07019249, 0.0112771 ,\n",
       "       0.03545925, 0.06441374, 0.07145411, 0.01112674, 0.01758223,\n",
       "       0.01125698])"
      ]
     },
     "execution_count": 5,
     "metadata": {},
     "output_type": "execute_result"
    }
   ],
   "source": [
    "model = pkl.load(open('models/model103.pkl', 'rb'))\n",
    "imp = model['et'].feature_importances_\n",
    "imp"
   ]
  },
  {
   "cell_type": "code",
   "execution_count": 6,
   "metadata": {},
   "outputs": [
    {
     "data": {
      "text/plain": [
       "<BarContainer object of 36 artists>"
      ]
     },
     "execution_count": 6,
     "metadata": {},
     "output_type": "execute_result"
    },
    {
     "data": {
      "image/png": "[encoded data removed]",
      "text/plain": [
       "<Figure size 720x720 with 1 Axes>"
      ]
     },
     "metadata": {
      "needs_background": "light"
     },
     "output_type": "display_data"
    }
   ],
   "source": [
    "plt.figure(figsize=(10, 10))\n",
    "plt.bar(np.arange(0,36,1), imp)"
   ]
  },
  {
   "cell_type": "code",
   "execution_count": 11,
   "metadata": {},
   "outputs": [
    {
     "data": {
      "text/plain": [
       "['feat_2',\n",
       " 'feat_4',\n",
       " 'feat_5',\n",
       " 'feat_6',\n",
       " 'feat_7',\n",
       " 'feat_10',\n",
       " 'feat_11',\n",
       " 'feat_12',\n",
       " 'feat_16',\n",
       " 'feat_17',\n",
       " 'feat_18',\n",
       " 'feat_20',\n",
       " 'feat_22',\n",
       " 'feat_24',\n",
       " 'feat_25',\n",
       " 'feat_27',\n",
       " 'feat_28',\n",
       " 'feat_30',\n",
       " 'feat_31',\n",
       " 'feat_32',\n",
       " 'feat_34']"
      ]
     },
     "execution_count": 11,
     "metadata": {},
     "output_type": "execute_result"
    }
   ],
   "source": [
    "new_cols = [feat for i,feat in enumerate(X_df.columns) if imp[i]>imp[35] + 0.005]\n",
    "new_cols"
   ]
  },
  {
   "cell_type": "code",
   "execution_count": 27,
   "metadata": {},
   "outputs": [],
   "source": [
    "probs = model.predict_proba(x)\n",
    "preds = model.predict(x)"
   ]
  },
  {
   "cell_type": "code",
   "execution_count": 14,
   "metadata": {},
   "outputs": [],
   "source": [
    "from sklearn.metrics import precision_recall_curve\n",
    "\n",
    "def evaluate_prec_recall(probs, y_true):\n",
    "    precision, recall, thresholds = precision_recall_curve(y_true, probs[:, 1])\n",
    "\n",
    "    # convert to f score\n",
    "    fscore = (2 * precision * recall) / (precision + recall)\n",
    "    # locate the index of the largest f score\n",
    "    ix = np.argmax(fscore)\n",
    "\n",
    "    # title\n",
    "    plt.title(f'Precision-Recall\\nBest F1 score = {fscore[ix]:.2f}')\n",
    "    # plot the precision-recall curves\n",
    "    no_skill = len(y_true[y_true==1]) / len(y_true)\n",
    "    plt.plot([0, 1], [no_skill, no_skill], linestyle='--', label='No skill')\n",
    "    plt.plot(recall, precision, marker='.', label='Bert Classifier')\n",
    "    plt.plot(recall[ix], precision[ix], marker='o', color='black', label=f'Best threshold = {thresholds[ix]:.2f}')\n",
    "    # show legend\n",
    "    plt.legend()\n",
    "    # axis labels\n",
    "    plt.xlabel('Recall')\n",
    "    plt.ylabel('Precision')\n",
    "    # show the plot \n",
    "    plt.show()"
   ]
  },
  {
   "cell_type": "code",
   "execution_count": 28,
   "metadata": {},
   "outputs": [
    {
     "data": {
      "image/png": "[encoded data removed]",
      "text/plain": [
       "<Figure size 432x288 with 1 Axes>"
      ]
     },
     "metadata": {
      "needs_background": "light"
     },
     "output_type": "display_data"
    }
   ],
   "source": [
    "evaluate_prec_recall(probs, y)"
   ]
  },
  {
   "cell_type": "code",
   "execution_count": 32,
   "metadata": {},
   "outputs": [],
   "source": [
    "threshold = 0.53\n",
    "preds = np.where(probs[:,1] > threshold, True, False)"
   ]
  },
  {
   "cell_type": "code",
   "execution_count": 33,
   "metadata": {},
   "outputs": [
    {
     "data": {
      "text/plain": [
       "0.9002341920374708"
      ]
     },
     "execution_count": 33,
     "metadata": {},
     "output_type": "execute_result"
    }
   ],
   "source": [
    "f1_score(y, preds)"
   ]
  }
 ],
 "metadata": {
  "interpreter": {
   "hash": "8258f53a3b52d4f8974b88489813fac77edb4c43d584a8c75e7dc2ad78a29726"
  },
  "kernelspec": {
   "display_name": "Python 3.9.5 ('ml')",
   "language": "python",
   "name": "python3"
  },
  "language_info": {
   "codemirror_mode": {
    "name": "ipython",
    "version": 3
   },
   "file_extension": ".py",
   "mimetype": "text/x-python",
   "name": "python",
   "nbconvert_exporter": "python",
   "pygments_lexer": "ipython3",
   "version": "3.9.5"
  },
  "orig_nbformat": 4
 },
 "nbformat": 4,
 "nbformat_minor": 2
}
