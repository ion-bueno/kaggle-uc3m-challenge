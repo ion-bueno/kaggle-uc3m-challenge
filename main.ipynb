{
 "cells": [
  {
   "cell_type": "code",
   "execution_count": 1,
   "metadata": {},
   "outputs": [],
   "source": [
    "from src.preprocessing import *\n",
    "from src.models import *\n",
    "from src.utils import *"
   ]
  },
  {
   "cell_type": "markdown",
   "metadata": {},
   "source": [
    "### Load data"
   ]
  },
  {
   "cell_type": "code",
   "execution_count": 2,
   "metadata": {},
   "outputs": [],
   "source": [
    "X, y, X_comp = load_data()\n",
    "_,_,X_comp_df = load_data(df_format=True)"
   ]
  },
  {
   "cell_type": "markdown",
   "metadata": {},
   "source": [
    "### Preprocessing"
   ]
  },
  {
   "cell_type": "code",
   "execution_count": 3,
   "metadata": {},
   "outputs": [],
   "source": [
    "x = fill_na_pmm(df_format=False)\n",
    "#x = select_features(fill_na_pmm(df_format=True))"
   ]
  },
  {
   "cell_type": "markdown",
   "metadata": {},
   "source": [
    "### Model"
   ]
  },
  {
   "cell_type": "code",
   "execution_count": 4,
   "metadata": {},
   "outputs": [
    {
     "name": "stdout",
     "output_type": "stream",
     "text": [
      "Params:\n",
      "OrderedDict([('svm__C', 1.8641878571319503), ('svm__decision_function_shape', 'ovo'), ('svm__degree', 1), ('svm__gamma', 0.06311130148133849), ('svm__kernel', 'rbf')])\n",
      "\n",
      "F1-score: 0.8657765406879424\n"
     ]
    }
   ],
   "source": [
    "our_model = SVM(x,y)\n",
    "model = our_model.train()"
   ]
  },
  {
   "cell_type": "markdown",
   "metadata": {},
   "source": [
    "### Prediction"
   ]
  },
  {
   "cell_type": "code",
   "execution_count": 5,
   "metadata": {},
   "outputs": [
    {
     "name": "stdout",
     "output_type": "stream",
     "text": [
      "There exists a 32.69% of true samples, having 572 true samples and 1178 false samples.\n"
     ]
    }
   ],
   "source": [
    "y_pred = model.predict(X_comp)\n",
    "#y_pred = model.predict(select_features(X_comp_df))\n",
    "show_perc_labels(y_pred)"
   ]
  },
  {
   "cell_type": "code",
   "execution_count": 6,
   "metadata": {},
   "outputs": [],
   "source": [
    "prepare_submission(y_pred, n_sub=92, export=True, export_model=True, model=model)"
   ]
  }
 ],
 "metadata": {
  "interpreter": {
   "hash": "8258f53a3b52d4f8974b88489813fac77edb4c43d584a8c75e7dc2ad78a29726"
  },
  "kernelspec": {
   "display_name": "Python 3.9.5 ('ml')",
   "language": "python",
   "name": "python3"
  },
  "language_info": {
   "codemirror_mode": {
    "name": "ipython",
    "version": 3
   },
   "file_extension": ".py",
   "mimetype": "text/x-python",
   "name": "python",
   "nbconvert_exporter": "python",
   "pygments_lexer": "ipython3",
   "version": "3.9.5"
  },
  "orig_nbformat": 4
 },
 "nbformat": 4,
 "nbformat_minor": 2
}
